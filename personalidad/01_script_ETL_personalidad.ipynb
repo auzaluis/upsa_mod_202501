{
  "nbformat": 4,
  "nbformat_minor": 0,
  "metadata": {
    "colab": {
      "provenance": [],
      "toc_visible": true,
      "authorship_tag": "ABX9TyM1jKm0nJQw+lFf38DKbq9j",
      "include_colab_link": true
    },
    "kernelspec": {
      "name": "python3",
      "display_name": "Python 3"
    },
    "language_info": {
      "name": "python"
    }
  },
  "cells": [
    {
      "cell_type": "markdown",
      "metadata": {
        "id": "view-in-github",
        "colab_type": "text"
      },
      "source": [
        "<a href=\"https://colab.research.google.com/github/auzaluis/upsa_mod_202501/blob/main/personalidad/01_script_ETL_personalidad.ipynb\" target=\"_parent\"><img src=\"https://colab.research.google.com/assets/colab-badge.svg\" alt=\"Open In Colab\"/></a>"
      ]
    },
    {
      "cell_type": "markdown",
      "source": [
        "# Tema 01: Carga de datos"
      ],
      "metadata": {
        "id": "Mx0iupEXDObq"
      }
    },
    {
      "cell_type": "markdown",
      "source": [
        "## Importando base de datos"
      ],
      "metadata": {
        "id": "-YaDZfKsDRgJ"
      }
    },
    {
      "cell_type": "code",
      "source": [
        "# Google Auth\n",
        "from google.colab import auth\n",
        "auth.authenticate_user()"
      ],
      "metadata": {
        "id": "njcDLvx6Cuo0"
      },
      "execution_count": null,
      "outputs": []
    },
    {
      "cell_type": "code",
      "source": [
        "# API client\n",
        "from google.auth import default\n",
        "creds, _ = default()"
      ],
      "metadata": {
        "id": "au0azzHXDzOh"
      },
      "execution_count": null,
      "outputs": []
    },
    {
      "cell_type": "code",
      "source": [
        "# gspread authorization\n",
        "import gspread\n",
        "gc = gspread.authorize(creds)"
      ],
      "metadata": {
        "id": "Ues1wBLaET1e"
      },
      "execution_count": null,
      "outputs": []
    },
    {
      "cell_type": "code",
      "source": [
        "# Accediendo al Google Sheet\n",
        "url_personalidad = 'https://docs.google.com/spreadsheets/d/1IQ_RxxTSmBKHTExlxboIRNlMov_F6RyqdcOPrflCv_w/edit?usp=sharing'\n",
        "gsheets = gc.open_by_url(url_personalidad)\n",
        "sheets = gsheets.worksheet('Respuestas de formulario 1').get_all_values()"
      ],
      "metadata": {
        "id": "8r_izTZkEk7d"
      },
      "execution_count": null,
      "outputs": []
    },
    {
      "cell_type": "code",
      "source": [
        "type(sheets)"
      ],
      "metadata": {
        "id": "nntFg2EfFf_8"
      },
      "execution_count": null,
      "outputs": []
    },
    {
      "cell_type": "code",
      "source": [
        "# Convirtiendo la lista en df\n",
        "import pandas as pd\n",
        "df = pd.DataFrame(sheets[1:], columns=sheets[0])"
      ],
      "metadata": {
        "id": "0ShQlXkEGBmr"
      },
      "execution_count": null,
      "outputs": []
    },
    {
      "cell_type": "markdown",
      "source": [
        "## Inspección del data frame"
      ],
      "metadata": {
        "id": "Qhvi9gnKOXl_"
      }
    },
    {
      "cell_type": "code",
      "source": [
        "type(df)"
      ],
      "metadata": {
        "id": "W548spIxGy3Z"
      },
      "execution_count": null,
      "outputs": []
    },
    {
      "cell_type": "code",
      "source": [
        "# ver el tamaño del df\n",
        "df.shape"
      ],
      "metadata": {
        "id": "a4qmo6DQOet-"
      },
      "execution_count": null,
      "outputs": []
    },
    {
      "cell_type": "code",
      "source": [
        "# Ver las primeras filas\n",
        "df.head()"
      ],
      "metadata": {
        "id": "Zs1yRpeoOqh9"
      },
      "execution_count": null,
      "outputs": []
    },
    {
      "cell_type": "code",
      "source": [
        "# Ver al estructura del df\n",
        "df.info()"
      ],
      "metadata": {
        "id": "Va4Q58z5Oy3u"
      },
      "execution_count": null,
      "outputs": []
    },
    {
      "cell_type": "code",
      "source": [
        "# dtype\n",
        "df['Sexo'].dtype"
      ],
      "metadata": {
        "id": "a6_jfpSTO8VN"
      },
      "execution_count": null,
      "outputs": []
    },
    {
      "cell_type": "code",
      "source": [
        "# Número de filas\n",
        "len(df)"
      ],
      "metadata": {
        "id": "U8Z1u2I9PZL-"
      },
      "execution_count": null,
      "outputs": []
    },
    {
      "cell_type": "code",
      "source": [
        "# Número de columnas\n",
        "len(df.columns)"
      ],
      "metadata": {
        "id": "iFr0IrTpPeAM"
      },
      "execution_count": null,
      "outputs": []
    },
    {
      "cell_type": "markdown",
      "source": [
        "# Tema 02: Transformación de datos"
      ],
      "metadata": {
        "id": "Ml6AJ710P1tu"
      }
    },
    {
      "cell_type": "markdown",
      "source": [
        "## Valores perdidos"
      ],
      "metadata": {
        "id": "82TmF6XmP4ss"
      }
    },
    {
      "cell_type": "markdown",
      "source": [
        "### Identificando NAs"
      ],
      "metadata": {
        "id": "nWWw2trjQQ02"
      }
    },
    {
      "cell_type": "code",
      "source": [
        "# Los NAs están como strings vacíos\n",
        "import numpy as np\n",
        "df.replace('', np.nan, inplace=True)"
      ],
      "metadata": {
        "id": "jjdM-H8MQmw8"
      },
      "execution_count": null,
      "outputs": []
    },
    {
      "cell_type": "code",
      "source": [
        "df['Escribe tu edad exacta'] \\\n",
        ".isna() \\\n",
        ".value_counts()"
      ],
      "metadata": {
        "id": "AEzqLEpbPhsd"
      },
      "execution_count": null,
      "outputs": []
    },
    {
      "cell_type": "markdown",
      "source": [
        "### Tratando los NAs"
      ],
      "metadata": {
        "id": "Z44H4L0USX3M"
      }
    },
    {
      "cell_type": "code",
      "source": [
        "df['Escribe tu edad exacta'].dtype"
      ],
      "metadata": {
        "id": "B6zN9dkpQVaM"
      },
      "execution_count": null,
      "outputs": []
    },
    {
      "cell_type": "code",
      "source": [
        "df['Escribe tu edad exacta'] = pd.to_numeric(df['Escribe tu edad exacta'], errors='coerce')"
      ],
      "metadata": {
        "id": "FzixsjuNSffa"
      },
      "execution_count": null,
      "outputs": []
    },
    {
      "cell_type": "code",
      "source": [
        "df['Escribe tu edad exacta'].dtype"
      ],
      "metadata": {
        "id": "Ueb6GcUnSxFa"
      },
      "execution_count": null,
      "outputs": []
    },
    {
      "cell_type": "markdown",
      "source": [
        "Reemplazo por la media"
      ],
      "metadata": {
        "id": "YIKwPP7mTBvr"
      }
    },
    {
      "cell_type": "code",
      "source": [
        "edad_promedio = df['Escribe tu edad exacta'].mean()"
      ],
      "metadata": {
        "id": "m8G_vY-fSyJa"
      },
      "execution_count": null,
      "outputs": []
    },
    {
      "cell_type": "code",
      "source": [
        "# Creando df2\n",
        "df2 = df.copy()"
      ],
      "metadata": {
        "id": "d-F6KkAlS4XK"
      },
      "execution_count": null,
      "outputs": []
    },
    {
      "cell_type": "code",
      "source": [
        "# Reemplazo por la media\n",
        "df2['edad2'] = df2['Escribe tu edad exacta'].fillna(edad_promedio)"
      ],
      "metadata": {
        "id": "AuUi18lcTa7a"
      },
      "execution_count": null,
      "outputs": []
    },
    {
      "cell_type": "code",
      "source": [
        "df2[['Escribe tu edad exacta', 'edad2']]"
      ],
      "metadata": {
        "id": "BJXZ6OIxUT_p"
      },
      "execution_count": null,
      "outputs": []
    },
    {
      "cell_type": "markdown",
      "source": [
        "Reubicando edad2"
      ],
      "metadata": {
        "id": "00kMzteb1gf3"
      }
    },
    {
      "cell_type": "code",
      "source": [
        "# Crear una lista con los nombres de las columnas\n",
        "lista_columnas = list(df2.columns)"
      ],
      "metadata": {
        "id": "AwaVXEpJUxMJ"
      },
      "execution_count": null,
      "outputs": []
    },
    {
      "cell_type": "code",
      "source": [
        "# Quitando temporalmente edad2 de la lista\n",
        "lista_columnas.remove('edad2')"
      ],
      "metadata": {
        "id": "4cMxMSgn1y2W"
      },
      "execution_count": null,
      "outputs": []
    },
    {
      "cell_type": "code",
      "source": [
        "# Obteniendo el índice (posición) de la columna \"after\"\n",
        "lista_columnas.index('Escribe tu edad exacta')"
      ],
      "metadata": {
        "id": "wOc_1Qxp2C1W"
      },
      "execution_count": null,
      "outputs": []
    },
    {
      "cell_type": "code",
      "source": [
        "# Insertando \"edad2\" después de \"Escribe tu edad exacta\"\n",
        "lista_columnas.insert(lista_columnas.index('Escribe tu edad exacta') + 1, 'edad2')"
      ],
      "metadata": {
        "id": "0221Hvy32hwH"
      },
      "execution_count": null,
      "outputs": []
    },
    {
      "cell_type": "code",
      "source": [
        "df2 = df2[lista_columnas]"
      ],
      "metadata": {
        "id": "dD9xx6F-3E8v"
      },
      "execution_count": null,
      "outputs": []
    },
    {
      "cell_type": "code",
      "source": [
        "df2.info()"
      ],
      "metadata": {
        "id": "BdQlkoqE3REW"
      },
      "execution_count": null,
      "outputs": []
    },
    {
      "cell_type": "markdown",
      "source": [
        "Creando relocate() en py"
      ],
      "metadata": {
        "id": "fkxnEigI3gTP"
      }
    },
    {
      "cell_type": "code",
      "source": [
        "def relocate(df, columna, after):\n",
        "  lista_columnas = list(df.columns)\n",
        "  lista_columnas.remove(columna)\n",
        "  lista_columnas.insert(lista_columnas.index(after) + 1, columna)\n",
        "  return df[lista_columnas]"
      ],
      "metadata": {
        "id": "8gO4RW6Q3jcm"
      },
      "execution_count": null,
      "outputs": []
    },
    {
      "cell_type": "code",
      "source": [
        "relocate(\n",
        "    df = df2,\n",
        "    columna = 'edad2',\n",
        "    after = 'Escribe tu edad exacta'\n",
        ")"
      ],
      "metadata": {
        "id": "7vKhbdeA5CjG"
      },
      "execution_count": null,
      "outputs": []
    },
    {
      "cell_type": "markdown",
      "source": [
        "Eliminar la fila completa"
      ],
      "metadata": {
        "id": "yKoZbZPx6sNO"
      }
    },
    {
      "cell_type": "code",
      "source": [
        "df2.shape"
      ],
      "metadata": {
        "id": "kRfHa70q5PNm"
      },
      "execution_count": null,
      "outputs": []
    },
    {
      "cell_type": "code",
      "source": [
        "df2.dropna(inplace=True)"
      ],
      "metadata": {
        "id": "5Kib1d5T61q2"
      },
      "execution_count": null,
      "outputs": []
    },
    {
      "cell_type": "code",
      "source": [
        "df2.shape"
      ],
      "metadata": {
        "id": "-X5PEvh_7CS3"
      },
      "execution_count": null,
      "outputs": []
    },
    {
      "cell_type": "markdown",
      "source": [
        "## Estandarización de variables"
      ],
      "metadata": {
        "id": "ZqeuOtY57bYW"
      }
    },
    {
      "cell_type": "markdown",
      "source": [
        "### Normalización"
      ],
      "metadata": {
        "id": "15Mmq5ot7m-v"
      }
    },
    {
      "cell_type": "code",
      "source": [
        "from sklearn.preprocessing import StandardScaler"
      ],
      "metadata": {
        "id": "dg0rg1Ss7fPW"
      },
      "execution_count": null,
      "outputs": []
    },
    {
      "cell_type": "code",
      "source": [
        "# instansciando StandardScaler()\n",
        "normalizador = StandardScaler()"
      ],
      "metadata": {
        "id": "SVrf8zKR8ySX"
      },
      "execution_count": null,
      "outputs": []
    },
    {
      "cell_type": "code",
      "source": [
        "# normalizando\n",
        "normalizador.fit_transform(df2[['edad2']])"
      ],
      "metadata": {
        "id": "ZNm1ikab85vW"
      },
      "execution_count": null,
      "outputs": []
    },
    {
      "cell_type": "code",
      "source": [
        "# creando df3\n",
        "df3 = df2.copy()"
      ],
      "metadata": {
        "id": "TiID_Oin9Gd2"
      },
      "execution_count": null,
      "outputs": []
    },
    {
      "cell_type": "code",
      "source": [
        "df3['edadZ'] = normalizador.fit_transform(df3[['edad2']])"
      ],
      "metadata": {
        "id": "VwSZNcya9fbm"
      },
      "execution_count": null,
      "outputs": []
    },
    {
      "cell_type": "code",
      "source": [
        "df3 = relocate(\n",
        "  df = df3,\n",
        "  columna = 'edadZ',\n",
        "  after = 'edad2'\n",
        ")"
      ],
      "metadata": {
        "id": "CSU9w2449kMm"
      },
      "execution_count": null,
      "outputs": []
    },
    {
      "cell_type": "markdown",
      "source": [
        "### Rango"
      ],
      "metadata": {
        "id": "5uqi51Mk_jIe"
      }
    },
    {
      "cell_type": "code",
      "source": [
        "from sklearn.preprocessing import MinMaxScaler"
      ],
      "metadata": {
        "id": "EJ9W7ejC_kHn"
      },
      "execution_count": null,
      "outputs": []
    },
    {
      "cell_type": "code",
      "source": [
        "# instanciando MinMaxScaler()\n",
        "rango = MinMaxScaler()"
      ],
      "metadata": {
        "id": "LInLj8Hs_tdG"
      },
      "execution_count": null,
      "outputs": []
    },
    {
      "cell_type": "code",
      "source": [
        "df3['edadR'] = rango.fit_transform(df3[['edad2']])"
      ],
      "metadata": {
        "id": "YQb_gIUV_3PO"
      },
      "execution_count": null,
      "outputs": []
    },
    {
      "cell_type": "code",
      "source": [
        "df3 = relocate(\n",
        "  df = df3,\n",
        "  columna = 'edadR',\n",
        "  after = 'edadZ'\n",
        ")"
      ],
      "metadata": {
        "id": "N1kg0Mr-_9Jm"
      },
      "execution_count": null,
      "outputs": []
    },
    {
      "cell_type": "code",
      "source": [
        "df3[['edad2', 'edadZ', 'edadR']]"
      ],
      "metadata": {
        "id": "086C39GWABrm"
      },
      "execution_count": null,
      "outputs": []
    },
    {
      "cell_type": "markdown",
      "source": [
        "## Agrupaciones"
      ],
      "metadata": {
        "id": "t2K8QoOT78OV"
      }
    },
    {
      "cell_type": "markdown",
      "source": [
        "### Numéricas"
      ],
      "metadata": {
        "id": "H6HSbIfJ8Enl"
      }
    },
    {
      "cell_type": "code",
      "source": [
        "cortes = [-float('inf'), 18, 21, float('inf')]\n",
        "etiquetas = ['18 o menos', '19 a 21', 'Más de 21']"
      ],
      "metadata": {
        "id": "PKgrcCA_8Dk9"
      },
      "execution_count": null,
      "outputs": []
    },
    {
      "cell_type": "code",
      "source": [
        "df3['edadGR'] = pd.cut(\n",
        "    x = df3['edad2'],\n",
        "    bins = cortes,\n",
        "    labels = etiquetas\n",
        ")"
      ],
      "metadata": {
        "id": "qxx6rj418kA9"
      },
      "execution_count": null,
      "outputs": []
    },
    {
      "cell_type": "code",
      "source": [
        "df3 = relocate(\n",
        "    df = df3,\n",
        "    columna = 'edadGR',\n",
        "    after = 'edadR'\n",
        ")"
      ],
      "metadata": {
        "id": "yLUvl_mG8lKN"
      },
      "execution_count": null,
      "outputs": []
    },
    {
      "cell_type": "code",
      "source": [
        "df3['edadGR'].value_counts()"
      ],
      "metadata": {
        "id": "UCuOHLta-G8u"
      },
      "execution_count": null,
      "outputs": []
    },
    {
      "cell_type": "markdown",
      "source": [
        "### Categóricas"
      ],
      "metadata": {
        "id": "f5T7mqvT-fAG"
      }
    },
    {
      "cell_type": "code",
      "source": [
        "# Revisando índices\n",
        "df3.info()"
      ],
      "metadata": {
        "id": "MU50qL2o-JhN"
      },
      "execution_count": null,
      "outputs": []
    },
    {
      "cell_type": "code",
      "source": [
        "# Valores únicos\n",
        "pd.unique(df3.iloc[:,8])"
      ],
      "metadata": {
        "id": "Bum3mjDd-nAO"
      },
      "execution_count": null,
      "outputs": []
    },
    {
      "cell_type": "code",
      "source": [
        "# Frecuencias\n",
        "df3.iloc[:,8].value_counts()"
      ],
      "metadata": {
        "id": "SGdYPeB1-8Gu"
      },
      "execution_count": null,
      "outputs": []
    },
    {
      "cell_type": "code",
      "source": [
        "df3.iloc[:,8].isin(['Totalmente verdadero', 'Un poco verdadero'])"
      ],
      "metadata": {
        "id": "40xayVPL_Xbg"
      },
      "execution_count": null,
      "outputs": []
    },
    {
      "cell_type": "markdown",
      "source": [
        "Dummitización"
      ],
      "metadata": {
        "id": "PhZ0xne6AFbP"
      }
    },
    {
      "cell_type": "code",
      "source": [
        "# Función condicional normal\n",
        "def top2box(x):\n",
        "  # if x == 'Totalmente verdadero' or x == 'Un poco verdadero':\n",
        "  if x in ['Totalmente verdadero', 'Un poco verdadero']:\n",
        "    return 1\n",
        "  else:\n",
        "    return 0"
      ],
      "metadata": {
        "id": "Fg9nXK9x_omO"
      },
      "execution_count": null,
      "outputs": []
    },
    {
      "cell_type": "code",
      "source": [
        "# Aplicando la función\n",
        "df3.iloc[:,8] \\\n",
        ".apply(top2box) \\\n",
        ".value_counts()"
      ],
      "metadata": {
        "id": "CXUV6gGKBqmP"
      },
      "execution_count": null,
      "outputs": []
    },
    {
      "cell_type": "code",
      "source": [
        "# Función lambda\n",
        "df3.iloc[:,8].apply(\n",
        "    lambda x: 1 if x in ['Totalmente verdadero', 'Un poco verdadero'] else 0\n",
        ")"
      ],
      "metadata": {
        "id": "A0YMgoxECU_e"
      },
      "execution_count": null,
      "outputs": []
    },
    {
      "cell_type": "code",
      "source": [
        "# Frecuencias\n",
        "df3.iloc[:,8] \\\n",
        ".apply(lambda x: 1 if x in ['Totalmente verdadero', 'Un poco verdadero'] else 0) \\\n",
        ".value_counts()"
      ],
      "metadata": {
        "id": "a01FH9cKD0k_"
      },
      "execution_count": null,
      "outputs": []
    },
    {
      "cell_type": "markdown",
      "source": [
        "### Ordinales"
      ],
      "metadata": {
        "id": "5Hxaw-JoEoAg"
      }
    },
    {
      "cell_type": "code",
      "source": [
        "import numpy as np"
      ],
      "metadata": {
        "id": "RMewOcChL1Ux"
      },
      "execution_count": null,
      "outputs": []
    },
    {
      "cell_type": "code",
      "source": [
        "pd.unique(df3.iloc[:,8])"
      ],
      "metadata": {
        "id": "gKmBJiQSEMQP"
      },
      "execution_count": null,
      "outputs": []
    },
    {
      "cell_type": "code",
      "source": [
        "# Cuando las codiciones son muchas (5 en esta caso), se recomienda usar select()\n",
        "condiciones = [\n",
        "    df3.iloc[:,8] == 'Totalmente verdadero',\n",
        "    df3.iloc[:,8] == 'Un poco verdadero',\n",
        "    df3.iloc[:,8] == 'No lo sé',\n",
        "    df3.iloc[:,8] == 'Un poco falso',\n",
        "    df3.iloc[:,8] == 'Totalmente falso',\n",
        "]\n",
        "\n",
        "# Hacer coincidir el orden\n",
        "opciones = [5,4,3,2,1]"
      ],
      "metadata": {
        "id": "4ff1VwJCL5QA"
      },
      "execution_count": null,
      "outputs": []
    },
    {
      "cell_type": "code",
      "source": [
        "# Usando select()\n",
        "ordinal = np.select(\n",
        "    condlist = condiciones,\n",
        "    choicelist = opciones,\n",
        "    default = np.nan\n",
        ")"
      ],
      "metadata": {
        "id": "WrsGbWg4Mn8B"
      },
      "execution_count": null,
      "outputs": []
    },
    {
      "cell_type": "code",
      "source": [
        "ordinal"
      ],
      "metadata": {
        "id": "yXPEfX_hMpDx"
      },
      "execution_count": null,
      "outputs": []
    },
    {
      "cell_type": "code",
      "source": [
        "ordinal.mean()"
      ],
      "metadata": {
        "id": "TCMZW2MBNoua"
      },
      "execution_count": null,
      "outputs": []
    },
    {
      "cell_type": "code",
      "source": [
        "np.unique(ordinal, return_counts = True)"
      ],
      "metadata": {
        "id": "e6dTv8HFNqfR"
      },
      "execution_count": null,
      "outputs": []
    },
    {
      "cell_type": "markdown",
      "source": [
        "### Bucles"
      ],
      "metadata": {
        "id": "69hRTzK3P3r7"
      }
    },
    {
      "cell_type": "markdown",
      "source": [
        "Forma standard"
      ],
      "metadata": {
        "id": "ZGYKj-OEP9cC"
      }
    },
    {
      "cell_type": "code",
      "source": [
        "# creando df4\n",
        "df4 = df3.copy()"
      ],
      "metadata": {
        "id": "S-MiA6hoP5SB"
      },
      "execution_count": null,
      "outputs": []
    },
    {
      "cell_type": "code",
      "source": [
        "df4.columns"
      ],
      "metadata": {
        "id": "SQgUJgopQGKy"
      },
      "execution_count": null,
      "outputs": []
    },
    {
      "cell_type": "code",
      "source": [
        "# crear una lista vacía\n",
        "frases = []\n",
        "\n",
        "# se ejecuta el bucle para llenar la lista\n",
        "for col in df4.columns:\n",
        "  if col.startswith('Según tu'):\n",
        "    frases.append(col)"
      ],
      "metadata": {
        "id": "pCJgqF0NQYBC"
      },
      "execution_count": null,
      "outputs": []
    },
    {
      "cell_type": "code",
      "source": [
        "frases"
      ],
      "metadata": {
        "id": "FL30CrRsQu2i"
      },
      "execution_count": null,
      "outputs": []
    },
    {
      "cell_type": "code",
      "source": [
        "# aplicando el bucle para dummitizar, recordemos que creamos la función top2box()\n",
        "for frase in frases:\n",
        "  df4[frase] = df4[frase].apply(top2box)"
      ],
      "metadata": {
        "id": "M7wkUe2FRcDj"
      },
      "execution_count": null,
      "outputs": []
    },
    {
      "cell_type": "code",
      "source": [
        "df4[frases]"
      ],
      "metadata": {
        "id": "Yj3spqNTRyYa"
      },
      "execution_count": null,
      "outputs": []
    },
    {
      "cell_type": "markdown",
      "source": [
        "Forma pythonica"
      ],
      "metadata": {
        "id": "DR7-KRwZSlzU"
      }
    },
    {
      "cell_type": "code",
      "source": [
        "# Creando df5\n",
        "df5 = df3.copy()"
      ],
      "metadata": {
        "id": "-wbFmQyUSm_S"
      },
      "execution_count": null,
      "outputs": []
    },
    {
      "cell_type": "code",
      "source": [
        "# lista vacía\n",
        "frases = []\n",
        "\n",
        "# comprehension list\n",
        "frases = [col for col in df5.columns if col.startswith('Según tu')]"
      ],
      "metadata": {
        "id": "YIb0a2nySsjS"
      },
      "execution_count": null,
      "outputs": []
    },
    {
      "cell_type": "code",
      "source": [
        "# aplicando el bucle, esta vez con una lambda\n",
        "for frase in frases:\n",
        "  df5[frase] = df5[frase].apply(lambda x: 1 if x in ['Totalmente verdadero', 'Un poco verdadero'] else 0)"
      ],
      "metadata": {
        "id": "dH6zMOzGTldS"
      },
      "execution_count": null,
      "outputs": []
    },
    {
      "cell_type": "code",
      "source": [
        "df5[frases] == df4[frases]"
      ],
      "metadata": {
        "id": "qpuOmVgcVFh0"
      },
      "execution_count": null,
      "outputs": []
    },
    {
      "cell_type": "markdown",
      "source": [
        "# Tema 03: Manipulación de datos"
      ],
      "metadata": {
        "id": "oYxDnaC0Vu6s"
      }
    },
    {
      "cell_type": "markdown",
      "source": [
        "## Selección de columnas"
      ],
      "metadata": {
        "id": "-vfjiUoiV3cs"
      }
    },
    {
      "cell_type": "code",
      "source": [
        "df5['Sexo']"
      ],
      "metadata": {
        "id": "qdljDMr7VzFj"
      },
      "execution_count": null,
      "outputs": []
    },
    {
      "cell_type": "code",
      "source": [
        "# extraer como df de una sola columna\n",
        "df5[['Sexo']]"
      ],
      "metadata": {
        "id": "rwJ0zbrCWGNs"
      },
      "execution_count": null,
      "outputs": []
    },
    {
      "cell_type": "code",
      "source": [
        "df5[['Sexo', 'Escribe tu edad exacta']]"
      ],
      "metadata": {
        "id": "pmskYijRWOhT"
      },
      "execution_count": null,
      "outputs": []
    },
    {
      "cell_type": "code",
      "source": [
        "# eliminar columnas\n",
        "df5.drop(columns = 'Marca temporal')"
      ],
      "metadata": {
        "id": "skWdjG6bWYPE"
      },
      "execution_count": null,
      "outputs": []
    },
    {
      "cell_type": "code",
      "source": [
        "# seleccionar cols que comienzan con...\n",
        "df5[[col for col in df5.columns if col.startswith('¿Cuánto')]]"
      ],
      "metadata": {
        "id": "BOcm7kaDWkOc"
      },
      "execution_count": null,
      "outputs": []
    },
    {
      "cell_type": "code",
      "source": [
        "# seleccionar cols que terminan con...\n",
        "df5[[col for col in df5.columns if col.endswith(']')]]"
      ],
      "metadata": {
        "id": "hpUveBcoXOOn"
      },
      "execution_count": null,
      "outputs": []
    },
    {
      "cell_type": "code",
      "source": [
        "# contains\n",
        "df5.filter(like = 'edad', axis = 1)"
      ],
      "metadata": {
        "id": "f5lM5Ie_Xcld"
      },
      "execution_count": null,
      "outputs": []
    },
    {
      "cell_type": "markdown",
      "source": [
        "## Selección de filas"
      ],
      "metadata": {
        "id": "y6e0G3fj-IRg"
      }
    },
    {
      "cell_type": "code",
      "source": [
        "# Seleccionar las filas cuando Sexo = 'Mujer'\n",
        "df5[df5['Sexo'] == 'Mujer'].head()"
      ],
      "metadata": {
        "id": "U0V96RIT-JlO"
      },
      "execution_count": null,
      "outputs": []
    },
    {
      "cell_type": "code",
      "source": [
        "# Seleccionar las filas cuando Sexo no es igual a 'Hombre'\n",
        "df5[df5['Sexo'] != 'Hombre'].head()"
      ],
      "metadata": {
        "id": "Tz7C3hu8-tYx"
      },
      "execution_count": null,
      "outputs": []
    },
    {
      "cell_type": "code",
      "source": [
        "# Seleccionar filas cuando edad2 es mayor o igual a 20\n",
        "df5[df5['edad2'] >= 20].head()"
      ],
      "metadata": {
        "id": "GgFlTZYV-yuh"
      },
      "execution_count": null,
      "outputs": []
    },
    {
      "cell_type": "code",
      "source": [
        "# Seleccionar filas cuando edad2 está entre 18 y 21\n",
        "df5[(df5['edad2'] >= 18) & (df5['edad2'] <= 21)].head()"
      ],
      "metadata": {
        "id": "1EssYqgU-3cR"
      },
      "execution_count": null,
      "outputs": []
    },
    {
      "cell_type": "code",
      "source": [
        "# Seleccionar filas cuando edad está entre 18 y 21 y cuando sexo = 'Mujer'\n",
        "df5[\n",
        "    (df5['edad2'] >= 18) &\n",
        "    (df5['edad2'] <= 21) &\n",
        "    (df5['Sexo'] == 'Mujer')\n",
        "].head()"
      ],
      "metadata": {
        "id": "UKbGuSPW--ZB"
      },
      "execution_count": null,
      "outputs": []
    },
    {
      "cell_type": "code",
      "source": [
        "df2[\n",
        "    (df2['edad2'] > 20) &\n",
        "    (df2['Sexo'] == 'Hombre') &\n",
        "    (df2.iloc[:,8].isin(['Totalmente verdadero', 'Un poco verdadero']))\n",
        "].head()"
      ],
      "metadata": {
        "id": "KKk-4tCjEzJg"
      },
      "execution_count": null,
      "outputs": []
    },
    {
      "cell_type": "markdown",
      "source": [
        "## Renombrando columnas"
      ],
      "metadata": {
        "id": "azW6enCBGKHy"
      }
    },
    {
      "cell_type": "code",
      "source": [
        "df6 = df5.copy()"
      ],
      "metadata": {
        "id": "pT3YGziLGLWh"
      },
      "execution_count": 115,
      "outputs": []
    },
    {
      "cell_type": "code",
      "source": [
        "df6.columns"
      ],
      "metadata": {
        "id": "idcRXr3NGOLy"
      },
      "execution_count": null,
      "outputs": []
    },
    {
      "cell_type": "markdown",
      "source": [
        "APPS"
      ],
      "metadata": {
        "id": "lEJ2zdu4THRj"
      }
    },
    {
      "cell_type": "markdown",
      "source": [
        "**Paso 1:** Crear una lista con los nuevos nombres"
      ],
      "metadata": {
        "id": "vyX3rskCKVKR"
      }
    },
    {
      "cell_type": "code",
      "source": [
        "apps = ['TikTok', 'Instagram', 'Facebook', 'YouTube']"
      ],
      "metadata": {
        "id": "-wWeGnkiGd0i"
      },
      "execution_count": 119,
      "outputs": []
    },
    {
      "cell_type": "markdown",
      "source": [
        "**Paso 2:** Crear dict que contenga los nombres antiguos como *keys* y nuevos como *values*"
      ],
      "metadata": {
        "id": "IMnBYztfKjEZ"
      }
    },
    {
      "cell_type": "code",
      "source": [
        "apps_dict = dict(zip(\n",
        "    [col for col in df6.columns if col.startswith('¿Cuánto')],\n",
        "    apps\n",
        "))"
      ],
      "metadata": {
        "id": "Msd6ojMUKhah"
      },
      "execution_count": 124,
      "outputs": []
    },
    {
      "cell_type": "code",
      "source": [
        "apps_dict"
      ],
      "metadata": {
        "colab": {
          "base_uri": "https://localhost:8080/"
        },
        "id": "0Qg6R2YBLzDs",
        "outputId": "98bf9266-185d-47f9-d612-0c6d1d26808e"
      },
      "execution_count": 126,
      "outputs": [
        {
          "output_type": "execute_result",
          "data": {
            "text/plain": [
              "{'¿Cuánto tiempo has pasado en los últimos 7 días en TikTok? Si no lo las usado coloca 00:00': 'TikTok',\n",
              " '¿Cuánto tiempo has pasado en los últimos 7 días en Instagram? Si no lo las usado coloca 00:00': 'Instagram',\n",
              " '¿Cuánto tiempo has pasado en los últimos 7 días en Facebook? Si no lo las usado coloca 00:00': 'Facebook',\n",
              " '¿Cuánto tiempo has pasado en los últimos 7 días en YouTube? Si no lo las usado coloca 00:00': 'YouTube'}"
            ]
          },
          "metadata": {},
          "execution_count": 126
        }
      ]
    },
    {
      "cell_type": "markdown",
      "source": [
        "**Paso 3:** Renombrando"
      ],
      "metadata": {
        "id": "GSxeDrWPLugT"
      }
    },
    {
      "cell_type": "code",
      "source": [
        "df6.rename(apps_dict, axis = 1, inplace = True)"
      ],
      "metadata": {
        "id": "oda6JLK4LdFJ"
      },
      "execution_count": 127,
      "outputs": []
    },
    {
      "cell_type": "code",
      "source": [
        "df6.info()"
      ],
      "metadata": {
        "id": "XeCmyb2eL8sD"
      },
      "execution_count": null,
      "outputs": []
    },
    {
      "cell_type": "markdown",
      "source": [
        "Frases"
      ],
      "metadata": {
        "id": "v3w20RgDTMFS"
      }
    },
    {
      "cell_type": "markdown",
      "source": [
        "**Paso 0:** Convertir la lista en Pandas Series"
      ],
      "metadata": {
        "id": "cX3RSwZRTSkq"
      }
    },
    {
      "cell_type": "code",
      "source": [
        "type(frases)"
      ],
      "metadata": {
        "id": "CXZz7oIATNTx"
      },
      "execution_count": null,
      "outputs": []
    },
    {
      "cell_type": "code",
      "source": [
        "frases2 = pd.Series(frases)"
      ],
      "metadata": {
        "id": "Rg8SbiaVTdyK"
      },
      "execution_count": 130,
      "outputs": []
    },
    {
      "cell_type": "code",
      "source": [
        "type(frases2)"
      ],
      "metadata": {
        "id": "O-1-TUSiThkB"
      },
      "execution_count": null,
      "outputs": []
    },
    {
      "cell_type": "markdown",
      "source": [
        "**Paso 1:** Crear una lista con los nuevos nombres"
      ],
      "metadata": {
        "id": "4Vmw6vdtTq_j"
      }
    },
    {
      "cell_type": "code",
      "source": [
        "frases2 = frases2.str.extract('\\[(.+)\\]')[0]"
      ],
      "metadata": {
        "id": "Nnjrs4t_Twdx"
      },
      "execution_count": 138,
      "outputs": []
    },
    {
      "cell_type": "code",
      "source": [
        "frases2"
      ],
      "metadata": {
        "id": "r70_8fBsUllT"
      },
      "execution_count": null,
      "outputs": []
    },
    {
      "cell_type": "markdown",
      "source": [
        "**Paso 2:** Crear dict que contenga los nombres antiguos como *keys* y nuevos como *values*"
      ],
      "metadata": {
        "id": "-o5blUMoVNFU"
      }
    },
    {
      "cell_type": "code",
      "source": [
        "frases_dict = dict(zip(frases, frases2))"
      ],
      "metadata": {
        "id": "nozzLZ7nVSVi"
      },
      "execution_count": 140,
      "outputs": []
    },
    {
      "cell_type": "markdown",
      "source": [
        "**Pase 3:** Renombrando"
      ],
      "metadata": {
        "id": "lmh1-QQpVc5b"
      }
    },
    {
      "cell_type": "code",
      "source": [
        "df6.rename(frases_dict, axis=1, inplace=True)"
      ],
      "metadata": {
        "id": "qg3Fci3DVcgj"
      },
      "execution_count": 141,
      "outputs": []
    },
    {
      "cell_type": "code",
      "source": [
        "df6.info()"
      ],
      "metadata": {
        "id": "xlFiIDRAVkfi"
      },
      "execution_count": null,
      "outputs": []
    },
    {
      "cell_type": "markdown",
      "source": [
        "## Pivotado"
      ],
      "metadata": {
        "id": "Rbr-86LtX8nm"
      }
    },
    {
      "cell_type": "markdown",
      "source": [
        "### Pivot longer"
      ],
      "metadata": {
        "id": "wKS7zZBGX-5t"
      }
    },
    {
      "cell_type": "code",
      "source": [
        "apps"
      ],
      "metadata": {
        "colab": {
          "base_uri": "https://localhost:8080/"
        },
        "id": "tvVbMbfrX97E",
        "outputId": "827e131f-196f-4150-8e6f-c5e9ceefe9c8"
      },
      "execution_count": 143,
      "outputs": [
        {
          "output_type": "execute_result",
          "data": {
            "text/plain": [
              "['TikTok', 'Instagram', 'Facebook', 'YouTube']"
            ]
          },
          "metadata": {},
          "execution_count": 143
        }
      ]
    },
    {
      "cell_type": "code",
      "source": [
        "df7 = df6.melt(\n",
        "    id_vars = ['Marca temporal', 'Sexo', 'edad2'],\n",
        "    value_vars = apps,\n",
        "    var_name = 'app',\n",
        "    value_name = 'time'\n",
        ")"
      ],
      "metadata": {
        "id": "ARNHG-ZtYaY2"
      },
      "execution_count": 146,
      "outputs": []
    },
    {
      "cell_type": "code",
      "source": [
        "df7.head()"
      ],
      "metadata": {
        "colab": {
          "base_uri": "https://localhost:8080/",
          "height": 206
        },
        "id": "y_aRILBFZn6F",
        "outputId": "4fdb8a01-20ea-467b-ccf6-d0773a9f309d"
      },
      "execution_count": 147,
      "outputs": [
        {
          "output_type": "execute_result",
          "data": {
            "text/plain": [
              "       Marca temporal    Sexo  edad2     app      time\n",
              "0  9/08/2021 12:23:46  Hombre   16.0  TikTok   0:00:00\n",
              "1  9/08/2021 12:25:01   Mujer   16.0  TikTok   0:50:00\n",
              "2  9/08/2021 12:26:31  Hombre   17.0  TikTok   8:00:00\n",
              "3  9/08/2021 12:28:49   Mujer   22.0  TikTok  22:35:00\n",
              "4  9/08/2021 12:31:43  Hombre   16.0  TikTok   7:00:00"
            ],
            "text/html": [
              "\n",
              "  <div id=\"df-ab83b3d6-918b-491b-b119-7ff35d3015e1\" class=\"colab-df-container\">\n",
              "    <div>\n",
              "<style scoped>\n",
              "    .dataframe tbody tr th:only-of-type {\n",
              "        vertical-align: middle;\n",
              "    }\n",
              "\n",
              "    .dataframe tbody tr th {\n",
              "        vertical-align: top;\n",
              "    }\n",
              "\n",
              "    .dataframe thead th {\n",
              "        text-align: right;\n",
              "    }\n",
              "</style>\n",
              "<table border=\"1\" class=\"dataframe\">\n",
              "  <thead>\n",
              "    <tr style=\"text-align: right;\">\n",
              "      <th></th>\n",
              "      <th>Marca temporal</th>\n",
              "      <th>Sexo</th>\n",
              "      <th>edad2</th>\n",
              "      <th>app</th>\n",
              "      <th>time</th>\n",
              "    </tr>\n",
              "  </thead>\n",
              "  <tbody>\n",
              "    <tr>\n",
              "      <th>0</th>\n",
              "      <td>9/08/2021 12:23:46</td>\n",
              "      <td>Hombre</td>\n",
              "      <td>16.0</td>\n",
              "      <td>TikTok</td>\n",
              "      <td>0:00:00</td>\n",
              "    </tr>\n",
              "    <tr>\n",
              "      <th>1</th>\n",
              "      <td>9/08/2021 12:25:01</td>\n",
              "      <td>Mujer</td>\n",
              "      <td>16.0</td>\n",
              "      <td>TikTok</td>\n",
              "      <td>0:50:00</td>\n",
              "    </tr>\n",
              "    <tr>\n",
              "      <th>2</th>\n",
              "      <td>9/08/2021 12:26:31</td>\n",
              "      <td>Hombre</td>\n",
              "      <td>17.0</td>\n",
              "      <td>TikTok</td>\n",
              "      <td>8:00:00</td>\n",
              "    </tr>\n",
              "    <tr>\n",
              "      <th>3</th>\n",
              "      <td>9/08/2021 12:28:49</td>\n",
              "      <td>Mujer</td>\n",
              "      <td>22.0</td>\n",
              "      <td>TikTok</td>\n",
              "      <td>22:35:00</td>\n",
              "    </tr>\n",
              "    <tr>\n",
              "      <th>4</th>\n",
              "      <td>9/08/2021 12:31:43</td>\n",
              "      <td>Hombre</td>\n",
              "      <td>16.0</td>\n",
              "      <td>TikTok</td>\n",
              "      <td>7:00:00</td>\n",
              "    </tr>\n",
              "  </tbody>\n",
              "</table>\n",
              "</div>\n",
              "    <div class=\"colab-df-buttons\">\n",
              "\n",
              "  <div class=\"colab-df-container\">\n",
              "    <button class=\"colab-df-convert\" onclick=\"convertToInteractive('df-ab83b3d6-918b-491b-b119-7ff35d3015e1')\"\n",
              "            title=\"Convert this dataframe to an interactive table.\"\n",
              "            style=\"display:none;\">\n",
              "\n",
              "  <svg xmlns=\"http://www.w3.org/2000/svg\" height=\"24px\" viewBox=\"0 -960 960 960\">\n",
              "    <path d=\"M120-120v-720h720v720H120Zm60-500h600v-160H180v160Zm220 220h160v-160H400v160Zm0 220h160v-160H400v160ZM180-400h160v-160H180v160Zm440 0h160v-160H620v160ZM180-180h160v-160H180v160Zm440 0h160v-160H620v160Z\"/>\n",
              "  </svg>\n",
              "    </button>\n",
              "\n",
              "  <style>\n",
              "    .colab-df-container {\n",
              "      display:flex;\n",
              "      gap: 12px;\n",
              "    }\n",
              "\n",
              "    .colab-df-convert {\n",
              "      background-color: #E8F0FE;\n",
              "      border: none;\n",
              "      border-radius: 50%;\n",
              "      cursor: pointer;\n",
              "      display: none;\n",
              "      fill: #1967D2;\n",
              "      height: 32px;\n",
              "      padding: 0 0 0 0;\n",
              "      width: 32px;\n",
              "    }\n",
              "\n",
              "    .colab-df-convert:hover {\n",
              "      background-color: #E2EBFA;\n",
              "      box-shadow: 0px 1px 2px rgba(60, 64, 67, 0.3), 0px 1px 3px 1px rgba(60, 64, 67, 0.15);\n",
              "      fill: #174EA6;\n",
              "    }\n",
              "\n",
              "    .colab-df-buttons div {\n",
              "      margin-bottom: 4px;\n",
              "    }\n",
              "\n",
              "    [theme=dark] .colab-df-convert {\n",
              "      background-color: #3B4455;\n",
              "      fill: #D2E3FC;\n",
              "    }\n",
              "\n",
              "    [theme=dark] .colab-df-convert:hover {\n",
              "      background-color: #434B5C;\n",
              "      box-shadow: 0px 1px 3px 1px rgba(0, 0, 0, 0.15);\n",
              "      filter: drop-shadow(0px 1px 2px rgba(0, 0, 0, 0.3));\n",
              "      fill: #FFFFFF;\n",
              "    }\n",
              "  </style>\n",
              "\n",
              "    <script>\n",
              "      const buttonEl =\n",
              "        document.querySelector('#df-ab83b3d6-918b-491b-b119-7ff35d3015e1 button.colab-df-convert');\n",
              "      buttonEl.style.display =\n",
              "        google.colab.kernel.accessAllowed ? 'block' : 'none';\n",
              "\n",
              "      async function convertToInteractive(key) {\n",
              "        const element = document.querySelector('#df-ab83b3d6-918b-491b-b119-7ff35d3015e1');\n",
              "        const dataTable =\n",
              "          await google.colab.kernel.invokeFunction('convertToInteractive',\n",
              "                                                    [key], {});\n",
              "        if (!dataTable) return;\n",
              "\n",
              "        const docLinkHtml = 'Like what you see? Visit the ' +\n",
              "          '<a target=\"_blank\" href=https://colab.research.google.com/notebooks/data_table.ipynb>data table notebook</a>'\n",
              "          + ' to learn more about interactive tables.';\n",
              "        element.innerHTML = '';\n",
              "        dataTable['output_type'] = 'display_data';\n",
              "        await google.colab.output.renderOutput(dataTable, element);\n",
              "        const docLink = document.createElement('div');\n",
              "        docLink.innerHTML = docLinkHtml;\n",
              "        element.appendChild(docLink);\n",
              "      }\n",
              "    </script>\n",
              "  </div>\n",
              "\n",
              "\n",
              "<div id=\"df-52cf5dd0-e06a-41dd-ad05-76322e3e7063\">\n",
              "  <button class=\"colab-df-quickchart\" onclick=\"quickchart('df-52cf5dd0-e06a-41dd-ad05-76322e3e7063')\"\n",
              "            title=\"Suggest charts\"\n",
              "            style=\"display:none;\">\n",
              "\n",
              "<svg xmlns=\"http://www.w3.org/2000/svg\" height=\"24px\"viewBox=\"0 0 24 24\"\n",
              "     width=\"24px\">\n",
              "    <g>\n",
              "        <path d=\"M19 3H5c-1.1 0-2 .9-2 2v14c0 1.1.9 2 2 2h14c1.1 0 2-.9 2-2V5c0-1.1-.9-2-2-2zM9 17H7v-7h2v7zm4 0h-2V7h2v10zm4 0h-2v-4h2v4z\"/>\n",
              "    </g>\n",
              "</svg>\n",
              "  </button>\n",
              "\n",
              "<style>\n",
              "  .colab-df-quickchart {\n",
              "      --bg-color: #E8F0FE;\n",
              "      --fill-color: #1967D2;\n",
              "      --hover-bg-color: #E2EBFA;\n",
              "      --hover-fill-color: #174EA6;\n",
              "      --disabled-fill-color: #AAA;\n",
              "      --disabled-bg-color: #DDD;\n",
              "  }\n",
              "\n",
              "  [theme=dark] .colab-df-quickchart {\n",
              "      --bg-color: #3B4455;\n",
              "      --fill-color: #D2E3FC;\n",
              "      --hover-bg-color: #434B5C;\n",
              "      --hover-fill-color: #FFFFFF;\n",
              "      --disabled-bg-color: #3B4455;\n",
              "      --disabled-fill-color: #666;\n",
              "  }\n",
              "\n",
              "  .colab-df-quickchart {\n",
              "    background-color: var(--bg-color);\n",
              "    border: none;\n",
              "    border-radius: 50%;\n",
              "    cursor: pointer;\n",
              "    display: none;\n",
              "    fill: var(--fill-color);\n",
              "    height: 32px;\n",
              "    padding: 0;\n",
              "    width: 32px;\n",
              "  }\n",
              "\n",
              "  .colab-df-quickchart:hover {\n",
              "    background-color: var(--hover-bg-color);\n",
              "    box-shadow: 0 1px 2px rgba(60, 64, 67, 0.3), 0 1px 3px 1px rgba(60, 64, 67, 0.15);\n",
              "    fill: var(--button-hover-fill-color);\n",
              "  }\n",
              "\n",
              "  .colab-df-quickchart-complete:disabled,\n",
              "  .colab-df-quickchart-complete:disabled:hover {\n",
              "    background-color: var(--disabled-bg-color);\n",
              "    fill: var(--disabled-fill-color);\n",
              "    box-shadow: none;\n",
              "  }\n",
              "\n",
              "  .colab-df-spinner {\n",
              "    border: 2px solid var(--fill-color);\n",
              "    border-color: transparent;\n",
              "    border-bottom-color: var(--fill-color);\n",
              "    animation:\n",
              "      spin 1s steps(1) infinite;\n",
              "  }\n",
              "\n",
              "  @keyframes spin {\n",
              "    0% {\n",
              "      border-color: transparent;\n",
              "      border-bottom-color: var(--fill-color);\n",
              "      border-left-color: var(--fill-color);\n",
              "    }\n",
              "    20% {\n",
              "      border-color: transparent;\n",
              "      border-left-color: var(--fill-color);\n",
              "      border-top-color: var(--fill-color);\n",
              "    }\n",
              "    30% {\n",
              "      border-color: transparent;\n",
              "      border-left-color: var(--fill-color);\n",
              "      border-top-color: var(--fill-color);\n",
              "      border-right-color: var(--fill-color);\n",
              "    }\n",
              "    40% {\n",
              "      border-color: transparent;\n",
              "      border-right-color: var(--fill-color);\n",
              "      border-top-color: var(--fill-color);\n",
              "    }\n",
              "    60% {\n",
              "      border-color: transparent;\n",
              "      border-right-color: var(--fill-color);\n",
              "    }\n",
              "    80% {\n",
              "      border-color: transparent;\n",
              "      border-right-color: var(--fill-color);\n",
              "      border-bottom-color: var(--fill-color);\n",
              "    }\n",
              "    90% {\n",
              "      border-color: transparent;\n",
              "      border-bottom-color: var(--fill-color);\n",
              "    }\n",
              "  }\n",
              "</style>\n",
              "\n",
              "  <script>\n",
              "    async function quickchart(key) {\n",
              "      const quickchartButtonEl =\n",
              "        document.querySelector('#' + key + ' button');\n",
              "      quickchartButtonEl.disabled = true;  // To prevent multiple clicks.\n",
              "      quickchartButtonEl.classList.add('colab-df-spinner');\n",
              "      try {\n",
              "        const charts = await google.colab.kernel.invokeFunction(\n",
              "            'suggestCharts', [key], {});\n",
              "      } catch (error) {\n",
              "        console.error('Error during call to suggestCharts:', error);\n",
              "      }\n",
              "      quickchartButtonEl.classList.remove('colab-df-spinner');\n",
              "      quickchartButtonEl.classList.add('colab-df-quickchart-complete');\n",
              "    }\n",
              "    (() => {\n",
              "      let quickchartButtonEl =\n",
              "        document.querySelector('#df-52cf5dd0-e06a-41dd-ad05-76322e3e7063 button');\n",
              "      quickchartButtonEl.style.display =\n",
              "        google.colab.kernel.accessAllowed ? 'block' : 'none';\n",
              "    })();\n",
              "  </script>\n",
              "</div>\n",
              "\n",
              "    </div>\n",
              "  </div>\n"
            ],
            "application/vnd.google.colaboratory.intrinsic+json": {
              "type": "dataframe",
              "variable_name": "df7",
              "summary": "{\n  \"name\": \"df7\",\n  \"rows\": 956,\n  \"fields\": [\n    {\n      \"column\": \"Marca temporal\",\n      \"properties\": {\n        \"dtype\": \"category\",\n        \"num_unique_values\": 238,\n        \"samples\": [\n          \"11/11/2021 15:56:31\",\n          \"9/08/2021 13:04:04\",\n          \"17/05/2024 9:52:23\"\n        ],\n        \"semantic_type\": \"\",\n        \"description\": \"\"\n      }\n    },\n    {\n      \"column\": \"Sexo\",\n      \"properties\": {\n        \"dtype\": \"category\",\n        \"num_unique_values\": 2,\n        \"samples\": [\n          \"Mujer\",\n          \"Hombre\"\n        ],\n        \"semantic_type\": \"\",\n        \"description\": \"\"\n      }\n    },\n    {\n      \"column\": \"edad2\",\n      \"properties\": {\n        \"dtype\": \"number\",\n        \"std\": 3.9412318513645586,\n        \"min\": 14.0,\n        \"max\": 48.0,\n        \"num_unique_values\": 23,\n        \"samples\": [\n          27.0,\n          25.0\n        ],\n        \"semantic_type\": \"\",\n        \"description\": \"\"\n      }\n    },\n    {\n      \"column\": \"app\",\n      \"properties\": {\n        \"dtype\": \"category\",\n        \"num_unique_values\": 4,\n        \"samples\": [\n          \"Instagram\",\n          \"YouTube\"\n        ],\n        \"semantic_type\": \"\",\n        \"description\": \"\"\n      }\n    },\n    {\n      \"column\": \"time\",\n      \"properties\": {\n        \"dtype\": \"object\",\n        \"num_unique_values\": 324,\n        \"samples\": [\n          \"10:50:00\",\n          \"1:12:00\"\n        ],\n        \"semantic_type\": \"\",\n        \"description\": \"\"\n      }\n    }\n  ]\n}"
            }
          },
          "metadata": {},
          "execution_count": 147
        }
      ]
    },
    {
      "cell_type": "markdown",
      "source": [
        "### Pivot wider"
      ],
      "metadata": {
        "id": "1S_eRX19bh8I"
      }
    },
    {
      "cell_type": "code",
      "source": [
        "df8 = df7.pivot(\n",
        "    index = ['Marca temporal', 'Sexo', 'edad2'],\n",
        "    columns = 'app',\n",
        "    values = 'time'\n",
        ").reset_index()"
      ],
      "metadata": {
        "id": "UrNbaVNvbjN2"
      },
      "execution_count": 153,
      "outputs": []
    },
    {
      "cell_type": "code",
      "source": [
        "df8.head()"
      ],
      "metadata": {
        "colab": {
          "base_uri": "https://localhost:8080/",
          "height": 206
        },
        "id": "DG13o-j6cJao",
        "outputId": "131a1c2b-d476-4489-d569-82604ab6afff"
      },
      "execution_count": 154,
      "outputs": [
        {
          "output_type": "execute_result",
          "data": {
            "text/plain": [
              "app       Marca temporal    Sexo  edad2 Facebook Instagram   TikTok  YouTube\n",
              "0    10/01/2023 18:16:15   Mujer   25.0  0:00:00   6:00:00  0:20:00  3:00:00\n",
              "1    10/01/2023 18:16:58   Mujer   21.0  5:00:00   6:00:00  3:00:00  2:00:00\n",
              "2    10/01/2023 18:17:15  Hombre   22.0  5:00:00   1:00:00  3:00:00  3:00:00\n",
              "3    10/01/2023 18:17:22   Mujer   22.0  1:50:00   6:33:00  7:52:00  0:54:00\n",
              "4    10/01/2023 18:17:33   Mujer   25.0  0:37:00   2:15:00  1:28:00  0:00:00"
            ],
            "text/html": [
              "\n",
              "  <div id=\"df-1ef87314-96aa-46e4-bd80-afaa4e8656e9\" class=\"colab-df-container\">\n",
              "    <div>\n",
              "<style scoped>\n",
              "    .dataframe tbody tr th:only-of-type {\n",
              "        vertical-align: middle;\n",
              "    }\n",
              "\n",
              "    .dataframe tbody tr th {\n",
              "        vertical-align: top;\n",
              "    }\n",
              "\n",
              "    .dataframe thead th {\n",
              "        text-align: right;\n",
              "    }\n",
              "</style>\n",
              "<table border=\"1\" class=\"dataframe\">\n",
              "  <thead>\n",
              "    <tr style=\"text-align: right;\">\n",
              "      <th>app</th>\n",
              "      <th>Marca temporal</th>\n",
              "      <th>Sexo</th>\n",
              "      <th>edad2</th>\n",
              "      <th>Facebook</th>\n",
              "      <th>Instagram</th>\n",
              "      <th>TikTok</th>\n",
              "      <th>YouTube</th>\n",
              "    </tr>\n",
              "  </thead>\n",
              "  <tbody>\n",
              "    <tr>\n",
              "      <th>0</th>\n",
              "      <td>10/01/2023 18:16:15</td>\n",
              "      <td>Mujer</td>\n",
              "      <td>25.0</td>\n",
              "      <td>0:00:00</td>\n",
              "      <td>6:00:00</td>\n",
              "      <td>0:20:00</td>\n",
              "      <td>3:00:00</td>\n",
              "    </tr>\n",
              "    <tr>\n",
              "      <th>1</th>\n",
              "      <td>10/01/2023 18:16:58</td>\n",
              "      <td>Mujer</td>\n",
              "      <td>21.0</td>\n",
              "      <td>5:00:00</td>\n",
              "      <td>6:00:00</td>\n",
              "      <td>3:00:00</td>\n",
              "      <td>2:00:00</td>\n",
              "    </tr>\n",
              "    <tr>\n",
              "      <th>2</th>\n",
              "      <td>10/01/2023 18:17:15</td>\n",
              "      <td>Hombre</td>\n",
              "      <td>22.0</td>\n",
              "      <td>5:00:00</td>\n",
              "      <td>1:00:00</td>\n",
              "      <td>3:00:00</td>\n",
              "      <td>3:00:00</td>\n",
              "    </tr>\n",
              "    <tr>\n",
              "      <th>3</th>\n",
              "      <td>10/01/2023 18:17:22</td>\n",
              "      <td>Mujer</td>\n",
              "      <td>22.0</td>\n",
              "      <td>1:50:00</td>\n",
              "      <td>6:33:00</td>\n",
              "      <td>7:52:00</td>\n",
              "      <td>0:54:00</td>\n",
              "    </tr>\n",
              "    <tr>\n",
              "      <th>4</th>\n",
              "      <td>10/01/2023 18:17:33</td>\n",
              "      <td>Mujer</td>\n",
              "      <td>25.0</td>\n",
              "      <td>0:37:00</td>\n",
              "      <td>2:15:00</td>\n",
              "      <td>1:28:00</td>\n",
              "      <td>0:00:00</td>\n",
              "    </tr>\n",
              "  </tbody>\n",
              "</table>\n",
              "</div>\n",
              "    <div class=\"colab-df-buttons\">\n",
              "\n",
              "  <div class=\"colab-df-container\">\n",
              "    <button class=\"colab-df-convert\" onclick=\"convertToInteractive('df-1ef87314-96aa-46e4-bd80-afaa4e8656e9')\"\n",
              "            title=\"Convert this dataframe to an interactive table.\"\n",
              "            style=\"display:none;\">\n",
              "\n",
              "  <svg xmlns=\"http://www.w3.org/2000/svg\" height=\"24px\" viewBox=\"0 -960 960 960\">\n",
              "    <path d=\"M120-120v-720h720v720H120Zm60-500h600v-160H180v160Zm220 220h160v-160H400v160Zm0 220h160v-160H400v160ZM180-400h160v-160H180v160Zm440 0h160v-160H620v160ZM180-180h160v-160H180v160Zm440 0h160v-160H620v160Z\"/>\n",
              "  </svg>\n",
              "    </button>\n",
              "\n",
              "  <style>\n",
              "    .colab-df-container {\n",
              "      display:flex;\n",
              "      gap: 12px;\n",
              "    }\n",
              "\n",
              "    .colab-df-convert {\n",
              "      background-color: #E8F0FE;\n",
              "      border: none;\n",
              "      border-radius: 50%;\n",
              "      cursor: pointer;\n",
              "      display: none;\n",
              "      fill: #1967D2;\n",
              "      height: 32px;\n",
              "      padding: 0 0 0 0;\n",
              "      width: 32px;\n",
              "    }\n",
              "\n",
              "    .colab-df-convert:hover {\n",
              "      background-color: #E2EBFA;\n",
              "      box-shadow: 0px 1px 2px rgba(60, 64, 67, 0.3), 0px 1px 3px 1px rgba(60, 64, 67, 0.15);\n",
              "      fill: #174EA6;\n",
              "    }\n",
              "\n",
              "    .colab-df-buttons div {\n",
              "      margin-bottom: 4px;\n",
              "    }\n",
              "\n",
              "    [theme=dark] .colab-df-convert {\n",
              "      background-color: #3B4455;\n",
              "      fill: #D2E3FC;\n",
              "    }\n",
              "\n",
              "    [theme=dark] .colab-df-convert:hover {\n",
              "      background-color: #434B5C;\n",
              "      box-shadow: 0px 1px 3px 1px rgba(0, 0, 0, 0.15);\n",
              "      filter: drop-shadow(0px 1px 2px rgba(0, 0, 0, 0.3));\n",
              "      fill: #FFFFFF;\n",
              "    }\n",
              "  </style>\n",
              "\n",
              "    <script>\n",
              "      const buttonEl =\n",
              "        document.querySelector('#df-1ef87314-96aa-46e4-bd80-afaa4e8656e9 button.colab-df-convert');\n",
              "      buttonEl.style.display =\n",
              "        google.colab.kernel.accessAllowed ? 'block' : 'none';\n",
              "\n",
              "      async function convertToInteractive(key) {\n",
              "        const element = document.querySelector('#df-1ef87314-96aa-46e4-bd80-afaa4e8656e9');\n",
              "        const dataTable =\n",
              "          await google.colab.kernel.invokeFunction('convertToInteractive',\n",
              "                                                    [key], {});\n",
              "        if (!dataTable) return;\n",
              "\n",
              "        const docLinkHtml = 'Like what you see? Visit the ' +\n",
              "          '<a target=\"_blank\" href=https://colab.research.google.com/notebooks/data_table.ipynb>data table notebook</a>'\n",
              "          + ' to learn more about interactive tables.';\n",
              "        element.innerHTML = '';\n",
              "        dataTable['output_type'] = 'display_data';\n",
              "        await google.colab.output.renderOutput(dataTable, element);\n",
              "        const docLink = document.createElement('div');\n",
              "        docLink.innerHTML = docLinkHtml;\n",
              "        element.appendChild(docLink);\n",
              "      }\n",
              "    </script>\n",
              "  </div>\n",
              "\n",
              "\n",
              "<div id=\"df-ff7544c3-c2d0-4d1f-8dc4-9e1c7bb22598\">\n",
              "  <button class=\"colab-df-quickchart\" onclick=\"quickchart('df-ff7544c3-c2d0-4d1f-8dc4-9e1c7bb22598')\"\n",
              "            title=\"Suggest charts\"\n",
              "            style=\"display:none;\">\n",
              "\n",
              "<svg xmlns=\"http://www.w3.org/2000/svg\" height=\"24px\"viewBox=\"0 0 24 24\"\n",
              "     width=\"24px\">\n",
              "    <g>\n",
              "        <path d=\"M19 3H5c-1.1 0-2 .9-2 2v14c0 1.1.9 2 2 2h14c1.1 0 2-.9 2-2V5c0-1.1-.9-2-2-2zM9 17H7v-7h2v7zm4 0h-2V7h2v10zm4 0h-2v-4h2v4z\"/>\n",
              "    </g>\n",
              "</svg>\n",
              "  </button>\n",
              "\n",
              "<style>\n",
              "  .colab-df-quickchart {\n",
              "      --bg-color: #E8F0FE;\n",
              "      --fill-color: #1967D2;\n",
              "      --hover-bg-color: #E2EBFA;\n",
              "      --hover-fill-color: #174EA6;\n",
              "      --disabled-fill-color: #AAA;\n",
              "      --disabled-bg-color: #DDD;\n",
              "  }\n",
              "\n",
              "  [theme=dark] .colab-df-quickchart {\n",
              "      --bg-color: #3B4455;\n",
              "      --fill-color: #D2E3FC;\n",
              "      --hover-bg-color: #434B5C;\n",
              "      --hover-fill-color: #FFFFFF;\n",
              "      --disabled-bg-color: #3B4455;\n",
              "      --disabled-fill-color: #666;\n",
              "  }\n",
              "\n",
              "  .colab-df-quickchart {\n",
              "    background-color: var(--bg-color);\n",
              "    border: none;\n",
              "    border-radius: 50%;\n",
              "    cursor: pointer;\n",
              "    display: none;\n",
              "    fill: var(--fill-color);\n",
              "    height: 32px;\n",
              "    padding: 0;\n",
              "    width: 32px;\n",
              "  }\n",
              "\n",
              "  .colab-df-quickchart:hover {\n",
              "    background-color: var(--hover-bg-color);\n",
              "    box-shadow: 0 1px 2px rgba(60, 64, 67, 0.3), 0 1px 3px 1px rgba(60, 64, 67, 0.15);\n",
              "    fill: var(--button-hover-fill-color);\n",
              "  }\n",
              "\n",
              "  .colab-df-quickchart-complete:disabled,\n",
              "  .colab-df-quickchart-complete:disabled:hover {\n",
              "    background-color: var(--disabled-bg-color);\n",
              "    fill: var(--disabled-fill-color);\n",
              "    box-shadow: none;\n",
              "  }\n",
              "\n",
              "  .colab-df-spinner {\n",
              "    border: 2px solid var(--fill-color);\n",
              "    border-color: transparent;\n",
              "    border-bottom-color: var(--fill-color);\n",
              "    animation:\n",
              "      spin 1s steps(1) infinite;\n",
              "  }\n",
              "\n",
              "  @keyframes spin {\n",
              "    0% {\n",
              "      border-color: transparent;\n",
              "      border-bottom-color: var(--fill-color);\n",
              "      border-left-color: var(--fill-color);\n",
              "    }\n",
              "    20% {\n",
              "      border-color: transparent;\n",
              "      border-left-color: var(--fill-color);\n",
              "      border-top-color: var(--fill-color);\n",
              "    }\n",
              "    30% {\n",
              "      border-color: transparent;\n",
              "      border-left-color: var(--fill-color);\n",
              "      border-top-color: var(--fill-color);\n",
              "      border-right-color: var(--fill-color);\n",
              "    }\n",
              "    40% {\n",
              "      border-color: transparent;\n",
              "      border-right-color: var(--fill-color);\n",
              "      border-top-color: var(--fill-color);\n",
              "    }\n",
              "    60% {\n",
              "      border-color: transparent;\n",
              "      border-right-color: var(--fill-color);\n",
              "    }\n",
              "    80% {\n",
              "      border-color: transparent;\n",
              "      border-right-color: var(--fill-color);\n",
              "      border-bottom-color: var(--fill-color);\n",
              "    }\n",
              "    90% {\n",
              "      border-color: transparent;\n",
              "      border-bottom-color: var(--fill-color);\n",
              "    }\n",
              "  }\n",
              "</style>\n",
              "\n",
              "  <script>\n",
              "    async function quickchart(key) {\n",
              "      const quickchartButtonEl =\n",
              "        document.querySelector('#' + key + ' button');\n",
              "      quickchartButtonEl.disabled = true;  // To prevent multiple clicks.\n",
              "      quickchartButtonEl.classList.add('colab-df-spinner');\n",
              "      try {\n",
              "        const charts = await google.colab.kernel.invokeFunction(\n",
              "            'suggestCharts', [key], {});\n",
              "      } catch (error) {\n",
              "        console.error('Error during call to suggestCharts:', error);\n",
              "      }\n",
              "      quickchartButtonEl.classList.remove('colab-df-spinner');\n",
              "      quickchartButtonEl.classList.add('colab-df-quickchart-complete');\n",
              "    }\n",
              "    (() => {\n",
              "      let quickchartButtonEl =\n",
              "        document.querySelector('#df-ff7544c3-c2d0-4d1f-8dc4-9e1c7bb22598 button');\n",
              "      quickchartButtonEl.style.display =\n",
              "        google.colab.kernel.accessAllowed ? 'block' : 'none';\n",
              "    })();\n",
              "  </script>\n",
              "</div>\n",
              "\n",
              "    </div>\n",
              "  </div>\n"
            ],
            "application/vnd.google.colaboratory.intrinsic+json": {
              "type": "dataframe",
              "variable_name": "df8",
              "summary": "{\n  \"name\": \"df8\",\n  \"rows\": 239,\n  \"fields\": [\n    {\n      \"column\": \"Marca temporal\",\n      \"properties\": {\n        \"dtype\": \"string\",\n        \"num_unique_values\": 238,\n        \"samples\": [\n          \"16/05/2024 21:56:42\",\n          \"10/02/2024 11:01:22\",\n          \"9/08/2021 12:40:30\"\n        ],\n        \"semantic_type\": \"\",\n        \"description\": \"\"\n      }\n    },\n    {\n      \"column\": \"Sexo\",\n      \"properties\": {\n        \"dtype\": \"category\",\n        \"num_unique_values\": 2,\n        \"samples\": [\n          \"Hombre\",\n          \"Mujer\"\n        ],\n        \"semantic_type\": \"\",\n        \"description\": \"\"\n      }\n    },\n    {\n      \"column\": \"edad2\",\n      \"properties\": {\n        \"dtype\": \"number\",\n        \"std\": 3.9474368909212014,\n        \"min\": 14.0,\n        \"max\": 48.0,\n        \"num_unique_values\": 23,\n        \"samples\": [\n          41.0,\n          38.0\n        ],\n        \"semantic_type\": \"\",\n        \"description\": \"\"\n      }\n    },\n    {\n      \"column\": \"Facebook\",\n      \"properties\": {\n        \"dtype\": \"object\",\n        \"num_unique_values\": 114,\n        \"samples\": [\n          \"1:24:00\",\n          \"0:32:00\"\n        ],\n        \"semantic_type\": \"\",\n        \"description\": \"\"\n      }\n    },\n    {\n      \"column\": \"Instagram\",\n      \"properties\": {\n        \"dtype\": \"object\",\n        \"num_unique_values\": 134,\n        \"samples\": [\n          \"5:27:00\",\n          \"15:00:00\"\n        ],\n        \"semantic_type\": \"\",\n        \"description\": \"\"\n      }\n    },\n    {\n      \"column\": \"TikTok\",\n      \"properties\": {\n        \"dtype\": \"object\",\n        \"num_unique_values\": 129,\n        \"samples\": [\n          \"6:30:00\",\n          \"12:00:00\"\n        ],\n        \"semantic_type\": \"\",\n        \"description\": \"\"\n      }\n    },\n    {\n      \"column\": \"YouTube\",\n      \"properties\": {\n        \"dtype\": \"object\",\n        \"num_unique_values\": 100,\n        \"samples\": [\n          \"2:04:00\",\n          \"1:26:00\"\n        ],\n        \"semantic_type\": \"\",\n        \"description\": \"\"\n      }\n    }\n  ]\n}"
            }
          },
          "metadata": {},
          "execution_count": 154
        }
      ]
    },
    {
      "cell_type": "markdown",
      "source": [
        "# Tema 04: Outliers"
      ],
      "metadata": {
        "id": "rJzWcT8kc-aA"
      }
    },
    {
      "cell_type": "code",
      "source": [],
      "metadata": {
        "id": "0RhFMPJVcLYh"
      },
      "execution_count": null,
      "outputs": []
    }
  ]
}