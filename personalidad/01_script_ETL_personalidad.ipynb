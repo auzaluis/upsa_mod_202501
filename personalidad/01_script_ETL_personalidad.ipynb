{
  "nbformat": 4,
  "nbformat_minor": 0,
  "metadata": {
    "colab": {
      "provenance": [],
      "authorship_tag": "ABX9TyMvKoGCQTr4eRtFzWSRM8ly",
      "include_colab_link": true
    },
    "kernelspec": {
      "name": "python3",
      "display_name": "Python 3"
    },
    "language_info": {
      "name": "python"
    }
  },
  "cells": [
    {
      "cell_type": "markdown",
      "metadata": {
        "id": "view-in-github",
        "colab_type": "text"
      },
      "source": [
        "<a href=\"https://colab.research.google.com/github/auzaluis/upsa_mod_202501/blob/main/personalidad/01_script_ETL_personalidad.ipynb\" target=\"_parent\"><img src=\"https://colab.research.google.com/assets/colab-badge.svg\" alt=\"Open In Colab\"/></a>"
      ]
    },
    {
      "cell_type": "markdown",
      "source": [
        "# Tema 01: Carga de datos"
      ],
      "metadata": {
        "id": "Mx0iupEXDObq"
      }
    },
    {
      "cell_type": "markdown",
      "source": [
        "## Importando base de datos"
      ],
      "metadata": {
        "id": "-YaDZfKsDRgJ"
      }
    },
    {
      "cell_type": "code",
      "source": [
        "# Google Auth\n",
        "from google.colab import auth\n",
        "auth.authenticate_user()"
      ],
      "metadata": {
        "id": "njcDLvx6Cuo0"
      },
      "execution_count": null,
      "outputs": []
    },
    {
      "cell_type": "code",
      "source": [
        "# API client\n",
        "from google.auth import default\n",
        "creds, _ = default()"
      ],
      "metadata": {
        "id": "au0azzHXDzOh"
      },
      "execution_count": null,
      "outputs": []
    },
    {
      "cell_type": "code",
      "source": [
        "# gspread authorization\n",
        "import gspread\n",
        "gc = gspread.authorize(creds)"
      ],
      "metadata": {
        "id": "Ues1wBLaET1e"
      },
      "execution_count": null,
      "outputs": []
    },
    {
      "cell_type": "code",
      "source": [
        "# Accediendo al Google Sheet\n",
        "url_personalidad = 'https://docs.google.com/spreadsheets/d/1IQ_RxxTSmBKHTExlxboIRNlMov_F6RyqdcOPrflCv_w/edit?usp=sharing'\n",
        "gsheets = gc.open_by_url(url_personalidad)\n",
        "sheets = gsheets.worksheet('Respuestas de formulario 1').get_all_values()"
      ],
      "metadata": {
        "id": "8r_izTZkEk7d"
      },
      "execution_count": null,
      "outputs": []
    },
    {
      "cell_type": "code",
      "source": [
        "type(sheets)"
      ],
      "metadata": {
        "id": "nntFg2EfFf_8"
      },
      "execution_count": null,
      "outputs": []
    },
    {
      "cell_type": "code",
      "source": [
        "# Convirtiendo la lista en df\n",
        "import pandas as pd\n",
        "df = pd.DataFrame(sheets[1:], columns=sheets[0])"
      ],
      "metadata": {
        "id": "0ShQlXkEGBmr"
      },
      "execution_count": null,
      "outputs": []
    },
    {
      "cell_type": "markdown",
      "source": [
        "## Inspección del data frame"
      ],
      "metadata": {
        "id": "Qhvi9gnKOXl_"
      }
    },
    {
      "cell_type": "code",
      "source": [
        "type(df)"
      ],
      "metadata": {
        "id": "W548spIxGy3Z"
      },
      "execution_count": null,
      "outputs": []
    },
    {
      "cell_type": "code",
      "source": [
        "# ver el tamaño del df\n",
        "df.shape"
      ],
      "metadata": {
        "id": "a4qmo6DQOet-"
      },
      "execution_count": null,
      "outputs": []
    },
    {
      "cell_type": "code",
      "source": [
        "# Ver las primeras filas\n",
        "df.head()"
      ],
      "metadata": {
        "id": "Zs1yRpeoOqh9"
      },
      "execution_count": null,
      "outputs": []
    },
    {
      "cell_type": "code",
      "source": [
        "# Ver al estructura del df\n",
        "df.info()"
      ],
      "metadata": {
        "id": "Va4Q58z5Oy3u"
      },
      "execution_count": null,
      "outputs": []
    },
    {
      "cell_type": "code",
      "source": [
        "# dtype\n",
        "df['Sexo'].dtype"
      ],
      "metadata": {
        "id": "a6_jfpSTO8VN"
      },
      "execution_count": null,
      "outputs": []
    },
    {
      "cell_type": "code",
      "source": [
        "# Número de filas\n",
        "len(df)"
      ],
      "metadata": {
        "id": "U8Z1u2I9PZL-"
      },
      "execution_count": null,
      "outputs": []
    },
    {
      "cell_type": "code",
      "source": [
        "# Número de columnas\n",
        "len(df.columns)"
      ],
      "metadata": {
        "id": "iFr0IrTpPeAM"
      },
      "execution_count": null,
      "outputs": []
    },
    {
      "cell_type": "markdown",
      "source": [
        "# Tema 02: Transformación de datos"
      ],
      "metadata": {
        "id": "Ml6AJ710P1tu"
      }
    },
    {
      "cell_type": "markdown",
      "source": [
        "## Valores perdidos"
      ],
      "metadata": {
        "id": "82TmF6XmP4ss"
      }
    },
    {
      "cell_type": "markdown",
      "source": [
        "### Identificando NAs"
      ],
      "metadata": {
        "id": "nWWw2trjQQ02"
      }
    },
    {
      "cell_type": "code",
      "source": [
        "# Los NAs están como strings vacíos\n",
        "import numpy as np\n",
        "df.replace('', np.nan, inplace=True)"
      ],
      "metadata": {
        "id": "jjdM-H8MQmw8"
      },
      "execution_count": null,
      "outputs": []
    },
    {
      "cell_type": "code",
      "source": [
        "df['Escribe tu edad exacta'] \\\n",
        ".isna() \\\n",
        ".value_counts()"
      ],
      "metadata": {
        "id": "AEzqLEpbPhsd"
      },
      "execution_count": null,
      "outputs": []
    },
    {
      "cell_type": "markdown",
      "source": [
        "### Tratando los NAs"
      ],
      "metadata": {
        "id": "Z44H4L0USX3M"
      }
    },
    {
      "cell_type": "code",
      "source": [
        "df['Escribe tu edad exacta'].dtype"
      ],
      "metadata": {
        "id": "B6zN9dkpQVaM"
      },
      "execution_count": null,
      "outputs": []
    },
    {
      "cell_type": "code",
      "source": [
        "df['Escribe tu edad exacta'] = pd.to_numeric(df['Escribe tu edad exacta'], errors='coerce')"
      ],
      "metadata": {
        "id": "FzixsjuNSffa"
      },
      "execution_count": null,
      "outputs": []
    },
    {
      "cell_type": "code",
      "source": [
        "df['Escribe tu edad exacta'].dtype"
      ],
      "metadata": {
        "id": "Ueb6GcUnSxFa"
      },
      "execution_count": null,
      "outputs": []
    },
    {
      "cell_type": "markdown",
      "source": [
        "Reemplazo por la media"
      ],
      "metadata": {
        "id": "YIKwPP7mTBvr"
      }
    },
    {
      "cell_type": "code",
      "source": [
        "edad_promedio = df['Escribe tu edad exacta'].mean()"
      ],
      "metadata": {
        "id": "m8G_vY-fSyJa"
      },
      "execution_count": null,
      "outputs": []
    },
    {
      "cell_type": "code",
      "source": [
        "# Creando df2\n",
        "df2 = df.copy()"
      ],
      "metadata": {
        "id": "d-F6KkAlS4XK"
      },
      "execution_count": null,
      "outputs": []
    },
    {
      "cell_type": "code",
      "source": [
        "# Reemplazo por la media\n",
        "df2['edad2'] = df2['Escribe tu edad exacta'].fillna(edad_promedio)"
      ],
      "metadata": {
        "id": "AuUi18lcTa7a"
      },
      "execution_count": null,
      "outputs": []
    },
    {
      "cell_type": "code",
      "source": [
        "df2[['Escribe tu edad exacta', 'edad2']]"
      ],
      "metadata": {
        "id": "BJXZ6OIxUT_p"
      },
      "execution_count": null,
      "outputs": []
    },
    {
      "cell_type": "markdown",
      "source": [
        "Reubicando edad2"
      ],
      "metadata": {
        "id": "00kMzteb1gf3"
      }
    },
    {
      "cell_type": "code",
      "source": [
        "# Crear una lista con los nombres de las columnas\n",
        "lista_columnas = list(df2.columns)"
      ],
      "metadata": {
        "id": "AwaVXEpJUxMJ"
      },
      "execution_count": null,
      "outputs": []
    },
    {
      "cell_type": "code",
      "source": [
        "# Quitando temporalmente edad2 de la lista\n",
        "lista_columnas.remove('edad2')"
      ],
      "metadata": {
        "id": "4cMxMSgn1y2W"
      },
      "execution_count": null,
      "outputs": []
    },
    {
      "cell_type": "code",
      "source": [
        "# Obteniendo el índice (posición) de la columna \"after\"\n",
        "lista_columnas.index('Escribe tu edad exacta')"
      ],
      "metadata": {
        "id": "wOc_1Qxp2C1W"
      },
      "execution_count": null,
      "outputs": []
    },
    {
      "cell_type": "code",
      "source": [
        "# Insertando \"edad2\" después de \"Escribe tu edad exacta\"\n",
        "lista_columnas.insert(lista_columnas.index('Escribe tu edad exacta') + 1, 'edad2')"
      ],
      "metadata": {
        "id": "0221Hvy32hwH"
      },
      "execution_count": null,
      "outputs": []
    },
    {
      "cell_type": "code",
      "source": [
        "df2 = df2[lista_columnas]"
      ],
      "metadata": {
        "id": "dD9xx6F-3E8v"
      },
      "execution_count": null,
      "outputs": []
    },
    {
      "cell_type": "code",
      "source": [
        "df2.info()"
      ],
      "metadata": {
        "id": "BdQlkoqE3REW"
      },
      "execution_count": null,
      "outputs": []
    },
    {
      "cell_type": "markdown",
      "source": [
        "Creando relocate() en py"
      ],
      "metadata": {
        "id": "fkxnEigI3gTP"
      }
    },
    {
      "cell_type": "code",
      "source": [
        "def relocate(df, columna, after):\n",
        "  lista_columnas = list(df.columns)\n",
        "  lista_columnas.remove(columna)\n",
        "  lista_columnas.insert(lista_columnas.index(after) + 1, columna)\n",
        "  return df[lista_columnas]"
      ],
      "metadata": {
        "id": "8gO4RW6Q3jcm"
      },
      "execution_count": null,
      "outputs": []
    },
    {
      "cell_type": "code",
      "source": [
        "relocate(\n",
        "    df = df2,\n",
        "    columna = 'edad2',\n",
        "    after = 'Escribe tu edad exacta'\n",
        ")"
      ],
      "metadata": {
        "id": "7vKhbdeA5CjG"
      },
      "execution_count": null,
      "outputs": []
    },
    {
      "cell_type": "markdown",
      "source": [
        "Eliminar la fila completa"
      ],
      "metadata": {
        "id": "yKoZbZPx6sNO"
      }
    },
    {
      "cell_type": "code",
      "source": [
        "df2.shape"
      ],
      "metadata": {
        "id": "kRfHa70q5PNm"
      },
      "execution_count": null,
      "outputs": []
    },
    {
      "cell_type": "code",
      "source": [
        "df2.dropna(inplace=True)"
      ],
      "metadata": {
        "id": "5Kib1d5T61q2"
      },
      "execution_count": null,
      "outputs": []
    },
    {
      "cell_type": "code",
      "source": [
        "df2.shape"
      ],
      "metadata": {
        "id": "-X5PEvh_7CS3"
      },
      "execution_count": null,
      "outputs": []
    },
    {
      "cell_type": "markdown",
      "source": [
        "## Estandarización de variables"
      ],
      "metadata": {
        "id": "ZqeuOtY57bYW"
      }
    },
    {
      "cell_type": "markdown",
      "source": [
        "### Normalización"
      ],
      "metadata": {
        "id": "15Mmq5ot7m-v"
      }
    },
    {
      "cell_type": "code",
      "source": [
        "from sklearn.preprocessing import StandardScaler"
      ],
      "metadata": {
        "id": "dg0rg1Ss7fPW"
      },
      "execution_count": null,
      "outputs": []
    },
    {
      "cell_type": "code",
      "source": [
        "# instansciando StandardScaler()\n",
        "normalizador = StandardScaler()"
      ],
      "metadata": {
        "id": "SVrf8zKR8ySX"
      },
      "execution_count": null,
      "outputs": []
    },
    {
      "cell_type": "code",
      "source": [
        "# normalizando\n",
        "normalizador.fit_transform(df2[['edad2']])"
      ],
      "metadata": {
        "id": "ZNm1ikab85vW"
      },
      "execution_count": null,
      "outputs": []
    },
    {
      "cell_type": "code",
      "source": [
        "# creando df3\n",
        "df3 = df2.copy()"
      ],
      "metadata": {
        "id": "TiID_Oin9Gd2"
      },
      "execution_count": null,
      "outputs": []
    },
    {
      "cell_type": "code",
      "source": [
        "df3['edadZ'] = normalizador.fit_transform(df3[['edad2']])"
      ],
      "metadata": {
        "id": "VwSZNcya9fbm"
      },
      "execution_count": null,
      "outputs": []
    },
    {
      "cell_type": "code",
      "source": [
        "df3 = relocate(\n",
        "  df = df3,\n",
        "  columna = 'edadZ',\n",
        "  after = 'edad2'\n",
        ")"
      ],
      "metadata": {
        "id": "CSU9w2449kMm"
      },
      "execution_count": null,
      "outputs": []
    },
    {
      "cell_type": "markdown",
      "source": [
        "### Rango"
      ],
      "metadata": {
        "id": "5uqi51Mk_jIe"
      }
    },
    {
      "cell_type": "code",
      "source": [
        "from sklearn.preprocessing import MinMaxScaler"
      ],
      "metadata": {
        "id": "EJ9W7ejC_kHn"
      },
      "execution_count": null,
      "outputs": []
    },
    {
      "cell_type": "code",
      "source": [
        "# instanciando MinMaxScaler()\n",
        "rango = MinMaxScaler()"
      ],
      "metadata": {
        "id": "LInLj8Hs_tdG"
      },
      "execution_count": null,
      "outputs": []
    },
    {
      "cell_type": "code",
      "source": [
        "df3['edadR'] = rango.fit_transform(df3[['edad2']])"
      ],
      "metadata": {
        "id": "YQb_gIUV_3PO"
      },
      "execution_count": null,
      "outputs": []
    },
    {
      "cell_type": "code",
      "source": [
        "df3 = relocate(\n",
        "  df = df3,\n",
        "  columna = 'edadR',\n",
        "  after = 'edadZ'\n",
        ")"
      ],
      "metadata": {
        "id": "N1kg0Mr-_9Jm"
      },
      "execution_count": null,
      "outputs": []
    },
    {
      "cell_type": "code",
      "source": [
        "df3[['edad2', 'edadZ', 'edadR']]"
      ],
      "metadata": {
        "id": "086C39GWABrm"
      },
      "execution_count": null,
      "outputs": []
    },
    {
      "cell_type": "markdown",
      "source": [
        "## Agrupaciones"
      ],
      "metadata": {
        "id": "t2K8QoOT78OV"
      }
    },
    {
      "cell_type": "markdown",
      "source": [
        "### Numéricas"
      ],
      "metadata": {
        "id": "H6HSbIfJ8Enl"
      }
    },
    {
      "cell_type": "code",
      "source": [
        "cortes = [-float('inf'), 18, 21, float('inf')]\n",
        "etiquetas = ['18 o menos', '19 a 21', 'Más de 21']"
      ],
      "metadata": {
        "id": "PKgrcCA_8Dk9"
      },
      "execution_count": 47,
      "outputs": []
    },
    {
      "cell_type": "code",
      "source": [
        "df3['edadGR'] = pd.cut(\n",
        "    x = df3['edad2'],\n",
        "    bins = cortes,\n",
        "    labels = etiquetas\n",
        ")"
      ],
      "metadata": {
        "id": "qxx6rj418kA9"
      },
      "execution_count": 51,
      "outputs": []
    },
    {
      "cell_type": "code",
      "source": [
        "df3 = relocate(\n",
        "    df = df3,\n",
        "    columna = 'edadGR',\n",
        "    after = 'edadR'\n",
        ")"
      ],
      "metadata": {
        "id": "yLUvl_mG8lKN"
      },
      "execution_count": 53,
      "outputs": []
    },
    {
      "cell_type": "code",
      "source": [
        "df3['edadGR'].value_counts()"
      ],
      "metadata": {
        "colab": {
          "base_uri": "https://localhost:8080/",
          "height": 209
        },
        "id": "UCuOHLta-G8u",
        "outputId": "eb64f6e5-086d-4bc7-afac-db75012d3648"
      },
      "execution_count": 55,
      "outputs": [
        {
          "output_type": "execute_result",
          "data": {
            "text/plain": [
              "edadGR\n",
              "Más de 21     111\n",
              "19 a 21        97\n",
              "18 o menos     31\n",
              "Name: count, dtype: int64"
            ],
            "text/html": [
              "<div>\n",
              "<style scoped>\n",
              "    .dataframe tbody tr th:only-of-type {\n",
              "        vertical-align: middle;\n",
              "    }\n",
              "\n",
              "    .dataframe tbody tr th {\n",
              "        vertical-align: top;\n",
              "    }\n",
              "\n",
              "    .dataframe thead th {\n",
              "        text-align: right;\n",
              "    }\n",
              "</style>\n",
              "<table border=\"1\" class=\"dataframe\">\n",
              "  <thead>\n",
              "    <tr style=\"text-align: right;\">\n",
              "      <th></th>\n",
              "      <th>count</th>\n",
              "    </tr>\n",
              "    <tr>\n",
              "      <th>edadGR</th>\n",
              "      <th></th>\n",
              "    </tr>\n",
              "  </thead>\n",
              "  <tbody>\n",
              "    <tr>\n",
              "      <th>Más de 21</th>\n",
              "      <td>111</td>\n",
              "    </tr>\n",
              "    <tr>\n",
              "      <th>19 a 21</th>\n",
              "      <td>97</td>\n",
              "    </tr>\n",
              "    <tr>\n",
              "      <th>18 o menos</th>\n",
              "      <td>31</td>\n",
              "    </tr>\n",
              "  </tbody>\n",
              "</table>\n",
              "</div><br><label><b>dtype:</b> int64</label>"
            ]
          },
          "metadata": {},
          "execution_count": 55
        }
      ]
    },
    {
      "cell_type": "markdown",
      "source": [
        "### Categóricas"
      ],
      "metadata": {
        "id": "f5T7mqvT-fAG"
      }
    },
    {
      "cell_type": "code",
      "source": [
        "# Revisando índices\n",
        "df3.info()"
      ],
      "metadata": {
        "id": "MU50qL2o-JhN"
      },
      "execution_count": null,
      "outputs": []
    },
    {
      "cell_type": "code",
      "source": [
        "# Valores únicos\n",
        "pd.unique(df3.iloc[:,8])"
      ],
      "metadata": {
        "colab": {
          "base_uri": "https://localhost:8080/"
        },
        "id": "Bum3mjDd-nAO",
        "outputId": "7a8c7217-b19f-47cb-f371-a88f218ea257"
      },
      "execution_count": 60,
      "outputs": [
        {
          "output_type": "execute_result",
          "data": {
            "text/plain": [
              "array(['No lo sé', 'Totalmente verdadero', 'Un poco falso',\n",
              "       'Un poco verdadero', 'Totalmente falso'], dtype=object)"
            ]
          },
          "metadata": {},
          "execution_count": 60
        }
      ]
    },
    {
      "cell_type": "code",
      "source": [
        "# Frecuencias\n",
        "df3.iloc[:,8].value_counts()"
      ],
      "metadata": {
        "id": "SGdYPeB1-8Gu"
      },
      "execution_count": null,
      "outputs": []
    },
    {
      "cell_type": "code",
      "source": [
        "df3.iloc[:,8].isin(['Totalmente verdadero', 'Un poco verdadero'])"
      ],
      "metadata": {
        "id": "40xayVPL_Xbg"
      },
      "execution_count": null,
      "outputs": []
    },
    {
      "cell_type": "markdown",
      "source": [
        "Dummitización"
      ],
      "metadata": {
        "id": "PhZ0xne6AFbP"
      }
    },
    {
      "cell_type": "code",
      "source": [
        "# Función condicional normal\n"
      ],
      "metadata": {
        "id": "Fg9nXK9x_omO"
      },
      "execution_count": null,
      "outputs": []
    }
  ]
}